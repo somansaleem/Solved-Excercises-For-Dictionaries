{
 "cells": [
  {
   "cell_type": "markdown",
   "id": "596496f0",
   "metadata": {},
   "source": [
    " # a creating a dictionary of a persons age\n"
   ]
  },
  {
   "cell_type": "code",
   "execution_count": 5,
   "id": "16fa0c95",
   "metadata": {},
   "outputs": [
    {
     "name": "stdout",
     "output_type": "stream",
     "text": [
      "{'name': 'soman', 'age': 20, 'city': 'lahore', 'hobbies': 'sports'}\n"
     ]
    }
   ],
   "source": [
    "person_dict={\"name\":\"soman\",\"age\":20,\"city\":\"lahore\",\"hobbies\":\"sports\"}\n",
    "print(person_dict)"
   ]
  },
  {
   "cell_type": "markdown",
   "id": "ea1c2b22",
   "metadata": {},
   "source": [
    "# frequency of words"
   ]
  },
  {
   "cell_type": "code",
   "execution_count": 14,
   "id": "2eb704bb",
   "metadata": {},
   "outputs": [
    {
     "name": "stdout",
     "output_type": "stream",
     "text": [
      "hello: 2\n",
      "again: 1\n",
      "world: 2\n"
     ]
    }
   ],
   "source": [
    "\n",
    "words = 'hello', 'world', 'hello', 'again', 'world'\n",
    "for word in set(words):\n",
    "    print(f\"{word}: {words.count(word)}\")\n"
   ]
  },
  {
   "cell_type": "markdown",
   "id": "0184302c",
   "metadata": {},
   "source": [
    "# Inventory"
   ]
  },
  {
   "cell_type": "code",
   "execution_count": 21,
   "id": "6613612d",
   "metadata": {},
   "outputs": [
    {
     "name": "stdout",
     "output_type": "stream",
     "text": [
      "30\n"
     ]
    }
   ],
   "source": [
    "inventory={\"footballs\":20,\n",
    "           \"basketballs\":10,\n",
    "           \"golfballs\":3\n",
    "           }\n",
    "\n",
    "inventory[\"golfballs\"]+=7\n",
    "inventory[\"footballs\"]-=10\n",
    "inventorey=sum(inventory.values())\n",
    "print(inventorey)"
   ]
  },
  {
   "cell_type": "markdown",
   "id": "cc60ac9e",
   "metadata": {},
   "source": [
    "# dataset"
   ]
  },
  {
   "cell_type": "code",
   "execution_count": 29,
   "id": "fde029c2",
   "metadata": {},
   "outputs": [
    {
     "name": "stdout",
     "output_type": "stream",
     "text": [
      "The most popular category is: Groceries with 5 items sold.\n"
     ]
    }
   ],
   "source": [
    "orders = [\n",
    "    {'order_id': 1, 'product_name': 'Laptop', 'category': 'Electronics', 'quantity': 1},\n",
    "    {'order_id': 2, 'product_name': 'T-shirt', 'category': 'Clothing', 'quantity': 2},\n",
    "    {'order_id': 3, 'product_name': 'Apple', 'category': 'Groceries', 'quantity': 5}\n",
    "    \n",
    "    \n",
    "]\n",
    "\n",
    "category_sales = {}\n",
    "\n",
    "for order in orders:\n",
    "    category = order['category']\n",
    "    quantity = order['quantity']\n",
    "    \n",
    "    if category in category_sales:\n",
    "        category_sales[category] += quantity\n",
    "    else:\n",
    "        category_sales[category] = quantity\n",
    "\n",
    "most_popular_category = max(category_sales, key=category_sales.get)\n",
    "most_popular_quantity = category_sales[most_popular_category]\n",
    "\n",
    "\n",
    "print(f\"The most popular category is: {most_popular_category} with {most_popular_quantity} items sold.\")\n"
   ]
  },
  {
   "cell_type": "markdown",
   "id": "9ef10661",
   "metadata": {},
   "source": [
    "# student grades"
   ]
  },
  {
   "cell_type": "code",
   "execution_count": 26,
   "id": "7cc080c6",
   "metadata": {},
   "outputs": [
    {
     "name": "stdout",
     "output_type": "stream",
     "text": [
      "87.75\n"
     ]
    }
   ],
   "source": [
    "grades={\"soman\":90,\n",
    "        \"ali\":89,\n",
    "        \"ahmed\":92,\n",
    "        \"ben\":80\n",
    "}\n",
    "grades_sum=sum(grades.values())\n",
    "average=grades_sum/4\n",
    "print(average)"
   ]
  },
  {
   "cell_type": "markdown",
   "id": "03042f76",
   "metadata": {},
   "source": [
    "# Inventory Management"
   ]
  },
  {
   "cell_type": "code",
   "execution_count": 2,
   "id": "c066daa2",
   "metadata": {},
   "outputs": [
    {
     "name": "stdout",
     "output_type": "stream",
     "text": [
      "Inventory: {'Apple': {'quantity': 70, 'price': 2}, 'Banana': {'quantity': 5, 'price': 1}, 'Orange': {'quantity': 3, 'price': 1.5}}\n",
      "Total Inventory Value: 149.5\n",
      "Low Stock Items: {'Orange': {'quantity': 3, 'price': 1.5}}\n"
     ]
    }
   ],
   "source": [
    "\n",
    "inventory = {}\n",
    "\n",
    "inventory['Apple'] = {'quantity': 50, 'price': 2}\n",
    "inventory['Banana'] = {'quantity': 10, 'price': 1}\n",
    "inventory['Orange'] = {'quantity': 3, 'price': 1.5}\n",
    "\n",
    "inventory['Apple']['quantity'] += 20  # Adding 20 more apples\n",
    "inventory['Banana']['quantity'] -= 5  # Selling 5 bananas\n",
    "\n",
    "total_value = 0\n",
    "for product in inventory:\n",
    "    total_value += inventory[product]['quantity'] * inventory[product]['price']\n",
    "\n",
    "low_stock_items = {}\n",
    "threshold = 5\n",
    "for product in inventory:\n",
    "    if inventory[product]['quantity'] < threshold:\n",
    "        low_stock_items[product] = inventory[product]\n",
    "\n",
    "print(\"Inventory:\", inventory)\n",
    "print(\"Total Inventory Value:\", total_value)\n",
    "print(\"Low Stock Items:\", low_stock_items)\n"
   ]
  },
  {
   "cell_type": "markdown",
   "id": "2b04c6ee-41c4-4771-9257-cae19fcd0a36",
   "metadata": {},
   "source": [
    "# Student Gradebook"
   ]
  },
  {
   "cell_type": "code",
   "execution_count": 25,
   "id": "189094a7-ffae-4fb0-8057-4ca7016f0e09",
   "metadata": {},
   "outputs": [
    {
     "name": "stdout",
     "output_type": "stream",
     "text": [
      "Students: {'Alice': {'Math': 85, 'Science': 95, 'English': 75}, 'Bob': {'Math': 75, 'Science': 85, 'English': 85}, 'Charlie': {'Math': 95, 'Science': 95, 'English': 85}}\n",
      "Average Grades: {'Alice': 85.0, 'Bob': 81.66666666666667, 'Charlie': 91.66666666666667}\n",
      "Highest grade in Math: 95\n",
      "Lowest grade in Math: 75\n",
      "Students sorted by average grades: [('Charlie', 91.66666666666667), ('Alice', 85.0), ('Bob', 81.66666666666667)]\n"
     ]
    }
   ],
   "source": [
    "students = {\n",
    "    'Alice': {'Math': 85, 'Science': 95, 'English': 75},\n",
    "    'Bob': {'Math': 75, 'Science': 85, 'English': 85},\n",
    "    'Charlie': {'Math': 95, 'Science': 95, 'English': 85},\n",
    "}\n",
    "\n",
    "\n",
    "average_grades = {}\n",
    "for student in students:\n",
    "    grades = students[student].values()\n",
    "    average_grades[student] = sum(grades) / len(grades)\n",
    "\n",
    "subject = 'Math'\n",
    "highest_grade = max(students[student][subject] for student in students)\n",
    "lowest_grade = min(students[student][subject] for student in students)\n",
    "\n",
    "\n",
    "print(\"Students:\", students)\n",
    "print(\"Average Grades:\", average_grades)\n",
    "print(f\"Highest grade in {subject}:\", highest_grade)\n",
    "print(f\"Lowest grade in {subject}:\", lowest_grade)\n",
    "print(\"Students sorted by average grades:\", sorted_students)\n"
   ]
  },
  {
   "cell_type": "markdown",
   "id": "1ad129b6-6967-4563-9801-cc48950df78a",
   "metadata": {},
   "source": [
    "# ecommerce storeb"
   ]
  },
  {
   "cell_type": "code",
   "execution_count": 10,
   "id": "69c13cb5-7e35-45be-8b2a-68961bcb6b96",
   "metadata": {},
   "outputs": [
    {
     "name": "stdout",
     "output_type": "stream",
     "text": [
      "Products: {'Laptop': {'price': 1000, 'quantity': 10}, 'Headphones': {'price': 200, 'quantity': 50}, 'Mouse': {'price': 50, 'quantity': 100}}\n",
      "Cart: {'Headphones': {'price': 200, 'quantity': 2}}\n",
      "Total Cost: 414.0\n"
     ]
    }
   ],
   "source": [
    "products = {\n",
    "    'Laptop': {'price': 1000, 'quantity': 10},\n",
    "    'Headphones': {'price': 200, 'quantity': 50},\n",
    "    'Mouse': {'price': 50, 'quantity': 100},\n",
    "}\n",
    "\n",
    "cart = {}\n",
    "\n",
    "cart['Laptop'] = {'price': products['Laptop']['price'], 'quantity': 1}\n",
    "cart['Headphones'] = {'price': products['Headphones']['price'], 'quantity': 2}\n",
    "\n",
    "del cart['Laptop']\n",
    "\n",
    "total_cost = 0\n",
    "for item in cart:\n",
    "    total_cost += cart[item]['price'] * cart[item]['quantity']\n",
    "\n",
    "discount = 0.1  # 10% discount\n",
    "tax = 0.15  # 15% tax\n",
    "total_cost -= total_cost * discount\n",
    "total_cost += total_cost * tax\n",
    "\n",
    "print(\"Products:\", products)\n",
    "print(\"Cart:\", cart)\n",
    "print(\"Total Cost:\", total_cost)\n"
   ]
  },
  {
   "cell_type": "code",
   "execution_count": null,
   "id": "e6ba2200-0856-4c99-8dd2-0b8732c1cb17",
   "metadata": {},
   "outputs": [],
   "source": []
  }
 ],
 "metadata": {
  "kernelspec": {
   "display_name": "Python 3 (ipykernel)",
   "language": "python",
   "name": "python3"
  },
  "language_info": {
   "codemirror_mode": {
    "name": "ipython",
    "version": 3
   },
   "file_extension": ".py",
   "mimetype": "text/x-python",
   "name": "python",
   "nbconvert_exporter": "python",
   "pygments_lexer": "ipython3",
   "version": "3.12.4"
  }
 },
 "nbformat": 4,
 "nbformat_minor": 5
}
